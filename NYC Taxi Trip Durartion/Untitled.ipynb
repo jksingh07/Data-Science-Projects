{
 "cells": [
  {
   "cell_type": "markdown",
   "id": "f38e881b-ca25-447b-bbd0-be508baa9c14",
   "metadata": {},
   "source": [
    "# NYC Taxi Trip Duration"
   ]
  },
  {
   "cell_type": "markdown",
   "id": "9027e1a9-2e55-45d2-a6c3-7eb38c005f58",
   "metadata": {},
   "source": [
    "### Self Observation\n",
    "1. cannot ask doubt in community because of members limit.\n",
    "2. I Know different techniques for EDA and data pre processing\n",
    "but I fail to use it effectively on data (specially visualizations).\n",
    "Usually I try different stuff randomly and see if something makes sense.\n",
    "3. Difficult to choose which variable to use for plotting. "
   ]
  },
  {
   "cell_type": "markdown",
   "id": "26841de7-6c46-4c83-bcef-b43a6028a17e",
   "metadata": {},
   "source": [
    "### Import Libraries"
   ]
  },
  {
   "cell_type": "code",
   "execution_count": 3,
   "id": "8fa69dd0-7d3f-4836-b0be-c4e17eaf8e83",
   "metadata": {},
   "outputs": [],
   "source": [
    "import pandas as pd\n",
    "import numpy as np\n",
    "import matplotlib.pyplot as plt\n",
    "import seaborn as sns\n",
    "from datetime import datetime\n",
    "\n",
    "%matplotlib inline"
   ]
  },
  {
   "cell_type": "markdown",
   "id": "6d67ccca-e1d9-4947-981a-ddc3bfbbe745",
   "metadata": {},
   "source": [
    "### Reading Data"
   ]
  },
  {
   "cell_type": "code",
   "execution_count": 4,
   "id": "4d28a9cb-9dcf-4401-b182-93180dc89c33",
   "metadata": {},
   "outputs": [],
   "source": [
    "df = pd.read_csv('./nyc_taxi_trip_duration.csv')"
   ]
  },
  {
   "cell_type": "markdown",
   "id": "c595a16a-5e8f-4456-a5bc-c3a7d070a348",
   "metadata": {},
   "source": [
    "## EDA"
   ]
  },
  {
   "cell_type": "code",
   "execution_count": 20,
   "id": "53ec55d3-2825-4400-b81d-a1ac6c123afe",
   "metadata": {},
   "outputs": [
    {
     "data": {
      "text/html": [
       "<div>\n",
       "<style scoped>\n",
       "    .dataframe tbody tr th:only-of-type {\n",
       "        vertical-align: middle;\n",
       "    }\n",
       "\n",
       "    .dataframe tbody tr th {\n",
       "        vertical-align: top;\n",
       "    }\n",
       "\n",
       "    .dataframe thead th {\n",
       "        text-align: right;\n",
       "    }\n",
       "</style>\n",
       "<table border=\"1\" class=\"dataframe\">\n",
       "  <thead>\n",
       "    <tr style=\"text-align: right;\">\n",
       "      <th></th>\n",
       "      <th>id</th>\n",
       "      <th>vendor_id</th>\n",
       "      <th>pickup_datetime</th>\n",
       "      <th>dropoff_datetime</th>\n",
       "      <th>passenger_count</th>\n",
       "      <th>pickup_longitude</th>\n",
       "      <th>pickup_latitude</th>\n",
       "      <th>dropoff_longitude</th>\n",
       "      <th>dropoff_latitude</th>\n",
       "      <th>store_and_fwd_flag</th>\n",
       "      <th>trip_duration</th>\n",
       "    </tr>\n",
       "  </thead>\n",
       "  <tbody>\n",
       "    <tr>\n",
       "      <th>0</th>\n",
       "      <td>id1080784</td>\n",
       "      <td>2</td>\n",
       "      <td>2016-02-29 16:40:21</td>\n",
       "      <td>2016-02-29 16:47:01</td>\n",
       "      <td>1</td>\n",
       "      <td>-73.953918</td>\n",
       "      <td>40.778873</td>\n",
       "      <td>-73.963875</td>\n",
       "      <td>40.771164</td>\n",
       "      <td>N</td>\n",
       "      <td>400</td>\n",
       "    </tr>\n",
       "    <tr>\n",
       "      <th>1</th>\n",
       "      <td>id0889885</td>\n",
       "      <td>1</td>\n",
       "      <td>2016-03-11 23:35:37</td>\n",
       "      <td>2016-03-11 23:53:57</td>\n",
       "      <td>2</td>\n",
       "      <td>-73.988312</td>\n",
       "      <td>40.731743</td>\n",
       "      <td>-73.994751</td>\n",
       "      <td>40.694931</td>\n",
       "      <td>N</td>\n",
       "      <td>1100</td>\n",
       "    </tr>\n",
       "    <tr>\n",
       "      <th>2</th>\n",
       "      <td>id0857912</td>\n",
       "      <td>2</td>\n",
       "      <td>2016-02-21 17:59:33</td>\n",
       "      <td>2016-02-21 18:26:48</td>\n",
       "      <td>2</td>\n",
       "      <td>-73.997314</td>\n",
       "      <td>40.721458</td>\n",
       "      <td>-73.948029</td>\n",
       "      <td>40.774918</td>\n",
       "      <td>N</td>\n",
       "      <td>1635</td>\n",
       "    </tr>\n",
       "    <tr>\n",
       "      <th>3</th>\n",
       "      <td>id3744273</td>\n",
       "      <td>2</td>\n",
       "      <td>2016-01-05 09:44:31</td>\n",
       "      <td>2016-01-05 10:03:32</td>\n",
       "      <td>6</td>\n",
       "      <td>-73.961670</td>\n",
       "      <td>40.759720</td>\n",
       "      <td>-73.956779</td>\n",
       "      <td>40.780628</td>\n",
       "      <td>N</td>\n",
       "      <td>1141</td>\n",
       "    </tr>\n",
       "    <tr>\n",
       "      <th>4</th>\n",
       "      <td>id0232939</td>\n",
       "      <td>1</td>\n",
       "      <td>2016-02-17 06:42:23</td>\n",
       "      <td>2016-02-17 06:56:31</td>\n",
       "      <td>1</td>\n",
       "      <td>-74.017120</td>\n",
       "      <td>40.708469</td>\n",
       "      <td>-73.988182</td>\n",
       "      <td>40.740631</td>\n",
       "      <td>N</td>\n",
       "      <td>848</td>\n",
       "    </tr>\n",
       "  </tbody>\n",
       "</table>\n",
       "</div>"
      ],
      "text/plain": [
       "          id  vendor_id     pickup_datetime    dropoff_datetime  \\\n",
       "0  id1080784          2 2016-02-29 16:40:21 2016-02-29 16:47:01   \n",
       "1  id0889885          1 2016-03-11 23:35:37 2016-03-11 23:53:57   \n",
       "2  id0857912          2 2016-02-21 17:59:33 2016-02-21 18:26:48   \n",
       "3  id3744273          2 2016-01-05 09:44:31 2016-01-05 10:03:32   \n",
       "4  id0232939          1 2016-02-17 06:42:23 2016-02-17 06:56:31   \n",
       "\n",
       "   passenger_count  pickup_longitude  pickup_latitude  dropoff_longitude  \\\n",
       "0                1        -73.953918        40.778873         -73.963875   \n",
       "1                2        -73.988312        40.731743         -73.994751   \n",
       "2                2        -73.997314        40.721458         -73.948029   \n",
       "3                6        -73.961670        40.759720         -73.956779   \n",
       "4                1        -74.017120        40.708469         -73.988182   \n",
       "\n",
       "   dropoff_latitude store_and_fwd_flag  trip_duration  \n",
       "0         40.771164                  N            400  \n",
       "1         40.694931                  N           1100  \n",
       "2         40.774918                  N           1635  \n",
       "3         40.780628                  N           1141  \n",
       "4         40.740631                  N            848  "
      ]
     },
     "execution_count": 20,
     "metadata": {},
     "output_type": "execute_result"
    }
   ],
   "source": [
    "df.head()"
   ]
  },
  {
   "cell_type": "code",
   "execution_count": 19,
   "id": "f7c923e7-e42f-4b62-83a6-899a5040d5f2",
   "metadata": {},
   "outputs": [
    {
     "data": {
      "text/html": [
       "<div>\n",
       "<style scoped>\n",
       "    .dataframe tbody tr th:only-of-type {\n",
       "        vertical-align: middle;\n",
       "    }\n",
       "\n",
       "    .dataframe tbody tr th {\n",
       "        vertical-align: top;\n",
       "    }\n",
       "\n",
       "    .dataframe thead th {\n",
       "        text-align: right;\n",
       "    }\n",
       "</style>\n",
       "<table border=\"1\" class=\"dataframe\">\n",
       "  <thead>\n",
       "    <tr style=\"text-align: right;\">\n",
       "      <th></th>\n",
       "      <th>vendor_id</th>\n",
       "      <th>pickup_datetime</th>\n",
       "      <th>dropoff_datetime</th>\n",
       "      <th>passenger_count</th>\n",
       "      <th>pickup_longitude</th>\n",
       "      <th>pickup_latitude</th>\n",
       "      <th>dropoff_longitude</th>\n",
       "      <th>dropoff_latitude</th>\n",
       "      <th>trip_duration</th>\n",
       "    </tr>\n",
       "  </thead>\n",
       "  <tbody>\n",
       "    <tr>\n",
       "      <th>count</th>\n",
       "      <td>729322.000000</td>\n",
       "      <td>729322</td>\n",
       "      <td>729322</td>\n",
       "      <td>729322.000000</td>\n",
       "      <td>729322.000000</td>\n",
       "      <td>729322.000000</td>\n",
       "      <td>729322.000000</td>\n",
       "      <td>729322.000000</td>\n",
       "      <td>7.293220e+05</td>\n",
       "    </tr>\n",
       "    <tr>\n",
       "      <th>mean</th>\n",
       "      <td>1.535403</td>\n",
       "      <td>2016-04-01 11:17:42.123299584</td>\n",
       "      <td>2016-04-01 11:33:34.352432128</td>\n",
       "      <td>1.662055</td>\n",
       "      <td>-73.973513</td>\n",
       "      <td>40.750919</td>\n",
       "      <td>-73.973422</td>\n",
       "      <td>40.751775</td>\n",
       "      <td>9.522291e+02</td>\n",
       "    </tr>\n",
       "    <tr>\n",
       "      <th>min</th>\n",
       "      <td>1.000000</td>\n",
       "      <td>2016-01-01 00:01:14</td>\n",
       "      <td>2016-01-01 00:05:54</td>\n",
       "      <td>0.000000</td>\n",
       "      <td>-121.933342</td>\n",
       "      <td>34.712234</td>\n",
       "      <td>-121.933304</td>\n",
       "      <td>32.181141</td>\n",
       "      <td>1.000000e+00</td>\n",
       "    </tr>\n",
       "    <tr>\n",
       "      <th>25%</th>\n",
       "      <td>1.000000</td>\n",
       "      <td>2016-02-17 18:46:36.249999872</td>\n",
       "      <td>2016-02-17 19:00:30.500000</td>\n",
       "      <td>1.000000</td>\n",
       "      <td>-73.991859</td>\n",
       "      <td>40.737335</td>\n",
       "      <td>-73.991318</td>\n",
       "      <td>40.735931</td>\n",
       "      <td>3.970000e+02</td>\n",
       "    </tr>\n",
       "    <tr>\n",
       "      <th>50%</th>\n",
       "      <td>2.000000</td>\n",
       "      <td>2016-04-01 17:30:37.500000</td>\n",
       "      <td>2016-04-01 17:46:47.500000</td>\n",
       "      <td>1.000000</td>\n",
       "      <td>-73.981758</td>\n",
       "      <td>40.754070</td>\n",
       "      <td>-73.979759</td>\n",
       "      <td>40.754509</td>\n",
       "      <td>6.630000e+02</td>\n",
       "    </tr>\n",
       "    <tr>\n",
       "      <th>75%</th>\n",
       "      <td>2.000000</td>\n",
       "      <td>2016-05-15 07:13:01.249999872</td>\n",
       "      <td>2016-05-15 07:38:40.500000</td>\n",
       "      <td>2.000000</td>\n",
       "      <td>-73.967361</td>\n",
       "      <td>40.768314</td>\n",
       "      <td>-73.963036</td>\n",
       "      <td>40.769741</td>\n",
       "      <td>1.075000e+03</td>\n",
       "    </tr>\n",
       "    <tr>\n",
       "      <th>max</th>\n",
       "      <td>2.000000</td>\n",
       "      <td>2016-06-30 23:59:37</td>\n",
       "      <td>2016-07-01 23:02:03</td>\n",
       "      <td>9.000000</td>\n",
       "      <td>-65.897385</td>\n",
       "      <td>51.881084</td>\n",
       "      <td>-65.897385</td>\n",
       "      <td>43.921028</td>\n",
       "      <td>1.939736e+06</td>\n",
       "    </tr>\n",
       "    <tr>\n",
       "      <th>std</th>\n",
       "      <td>0.498745</td>\n",
       "      <td>NaN</td>\n",
       "      <td>NaN</td>\n",
       "      <td>1.312446</td>\n",
       "      <td>0.069754</td>\n",
       "      <td>0.033594</td>\n",
       "      <td>0.069588</td>\n",
       "      <td>0.036037</td>\n",
       "      <td>3.864626e+03</td>\n",
       "    </tr>\n",
       "  </tbody>\n",
       "</table>\n",
       "</div>"
      ],
      "text/plain": [
       "           vendor_id                pickup_datetime  \\\n",
       "count  729322.000000                         729322   \n",
       "mean        1.535403  2016-04-01 11:17:42.123299584   \n",
       "min         1.000000            2016-01-01 00:01:14   \n",
       "25%         1.000000  2016-02-17 18:46:36.249999872   \n",
       "50%         2.000000     2016-04-01 17:30:37.500000   \n",
       "75%         2.000000  2016-05-15 07:13:01.249999872   \n",
       "max         2.000000            2016-06-30 23:59:37   \n",
       "std         0.498745                            NaN   \n",
       "\n",
       "                    dropoff_datetime  passenger_count  pickup_longitude  \\\n",
       "count                         729322    729322.000000     729322.000000   \n",
       "mean   2016-04-01 11:33:34.352432128         1.662055        -73.973513   \n",
       "min              2016-01-01 00:05:54         0.000000       -121.933342   \n",
       "25%       2016-02-17 19:00:30.500000         1.000000        -73.991859   \n",
       "50%       2016-04-01 17:46:47.500000         1.000000        -73.981758   \n",
       "75%       2016-05-15 07:38:40.500000         2.000000        -73.967361   \n",
       "max              2016-07-01 23:02:03         9.000000        -65.897385   \n",
       "std                              NaN         1.312446          0.069754   \n",
       "\n",
       "       pickup_latitude  dropoff_longitude  dropoff_latitude  trip_duration  \n",
       "count    729322.000000      729322.000000     729322.000000   7.293220e+05  \n",
       "mean         40.750919         -73.973422         40.751775   9.522291e+02  \n",
       "min          34.712234        -121.933304         32.181141   1.000000e+00  \n",
       "25%          40.737335         -73.991318         40.735931   3.970000e+02  \n",
       "50%          40.754070         -73.979759         40.754509   6.630000e+02  \n",
       "75%          40.768314         -73.963036         40.769741   1.075000e+03  \n",
       "max          51.881084         -65.897385         43.921028   1.939736e+06  \n",
       "std           0.033594           0.069588          0.036037   3.864626e+03  "
      ]
     },
     "execution_count": 19,
     "metadata": {},
     "output_type": "execute_result"
    }
   ],
   "source": [
    "# Data need to be normalised as features are in different scale. so normalise from -1 to 1\n",
    "df.describe()"
   ]
  },
  {
   "cell_type": "code",
   "execution_count": 7,
   "id": "eb0a0e74-29c3-4322-b440-1196a7bc01c2",
   "metadata": {},
   "outputs": [
    {
     "data": {
      "text/plain": [
       "id                     object\n",
       "vendor_id               int64\n",
       "pickup_datetime        object\n",
       "dropoff_datetime       object\n",
       "passenger_count         int64\n",
       "pickup_longitude      float64\n",
       "pickup_latitude       float64\n",
       "dropoff_longitude     float64\n",
       "dropoff_latitude      float64\n",
       "store_and_fwd_flag     object\n",
       "trip_duration           int64\n",
       "dtype: object"
      ]
     },
     "execution_count": 7,
     "metadata": {},
     "output_type": "execute_result"
    }
   ],
   "source": [
    "df.dtypes"
   ]
  },
  {
   "cell_type": "code",
   "execution_count": 8,
   "id": "fa9df0df-b82e-4dab-9514-f7e52f557b63",
   "metadata": {},
   "outputs": [],
   "source": [
    "# Convert datetime fields from object to python datetime\n",
    "def convert_to_datetime(X):\n",
    "    datetime_format = \"%Y-%m-%d %H:%M:%S\"\n",
    "    obj = datetime.strptime(X, datetime_format)\n",
    "    return obj"
   ]
  },
  {
   "cell_type": "code",
   "execution_count": 9,
   "id": "d43edece-f3d8-4653-9780-b4c2e5dad7ab",
   "metadata": {},
   "outputs": [],
   "source": [
    "df['pickup_datetime'] = df['pickup_datetime'].apply(convert_to_datetime)\n",
    "df['dropoff_datetime'] = df['dropoff_datetime'].apply(convert_to_datetime)"
   ]
  },
  {
   "cell_type": "code",
   "execution_count": 10,
   "id": "8052742a-6d19-4c45-821c-83875b21153e",
   "metadata": {},
   "outputs": [
    {
     "data": {
      "text/plain": [
       "id                            object\n",
       "vendor_id                      int64\n",
       "pickup_datetime       datetime64[ns]\n",
       "dropoff_datetime      datetime64[ns]\n",
       "passenger_count                int64\n",
       "pickup_longitude             float64\n",
       "pickup_latitude              float64\n",
       "dropoff_longitude            float64\n",
       "dropoff_latitude             float64\n",
       "store_and_fwd_flag            object\n",
       "trip_duration                  int64\n",
       "dtype: object"
      ]
     },
     "execution_count": 10,
     "metadata": {},
     "output_type": "execute_result"
    }
   ],
   "source": [
    "df.dtypes"
   ]
  },
  {
   "cell_type": "code",
   "execution_count": 11,
   "id": "49a8c154-824b-44ee-ba41-ae98e47c0794",
   "metadata": {},
   "outputs": [
    {
     "data": {
      "text/plain": [
       "store_and_fwd_flag\n",
       "N    725282\n",
       "Y      4040\n",
       "Name: count, dtype: int64"
      ]
     },
     "execution_count": 11,
     "metadata": {},
     "output_type": "execute_result"
    }
   ],
   "source": [
    "df['store_and_fwd_flag'].value_counts()"
   ]
  },
  {
   "cell_type": "code",
   "execution_count": 12,
   "id": "286171e1-f5f1-4c7a-8117-8e90789df316",
   "metadata": {},
   "outputs": [
    {
     "data": {
      "text/plain": [
       "passenger_count\n",
       "1    517415\n",
       "2    105097\n",
       "5     38926\n",
       "3     29692\n",
       "6     24107\n",
       "4     14050\n",
       "0        33\n",
       "7         1\n",
       "9         1\n",
       "Name: count, dtype: int64"
      ]
     },
     "execution_count": 12,
     "metadata": {},
     "output_type": "execute_result"
    }
   ],
   "source": [
    "df['passenger_count'].value_counts()"
   ]
  },
  {
   "cell_type": "code",
   "execution_count": 13,
   "id": "ece4f561-6d1b-4173-9ec9-48233d2a3952",
   "metadata": {},
   "outputs": [],
   "source": [
    "delta_time = df['dropoff_datetime'][0] - df['pickup_datetime'][0]"
   ]
  },
  {
   "cell_type": "code",
   "execution_count": 14,
   "id": "cf9216a2-adfa-4615-8e3b-eece38a5ddf3",
   "metadata": {},
   "outputs": [
    {
     "data": {
      "text/plain": [
       "400"
      ]
     },
     "execution_count": 14,
     "metadata": {},
     "output_type": "execute_result"
    }
   ],
   "source": [
    "delta_time.seconds"
   ]
  },
  {
   "cell_type": "code",
   "execution_count": 15,
   "id": "c16f1958-ef2f-4635-bf9f-da13fb3e2468",
   "metadata": {},
   "outputs": [
    {
     "data": {
      "text/plain": [
       "400"
      ]
     },
     "execution_count": 15,
     "metadata": {},
     "output_type": "execute_result"
    }
   ],
   "source": [
    "df['trip_duration'][0]"
   ]
  },
  {
   "cell_type": "code",
   "execution_count": 16,
   "id": "e281913a-f818-481f-8e9e-cd8173a5eb7d",
   "metadata": {},
   "outputs": [
    {
     "data": {
      "text/plain": [
       "<Axes: xlabel='pickup_datetime', ylabel='passenger_count'>"
      ]
     },
     "execution_count": 16,
     "metadata": {},
     "output_type": "execute_result"
    },
    {
     "data": {
      "image/png": "[encoded data removed]",
      "text/plain": [
       "<Figure size 640x480 with 1 Axes>"
      ]
     },
     "metadata": {},
     "output_type": "display_data"
    }
   ],
   "source": [
    "sns.scatterplot(df, x='pickup_datetime', y='passenger_count', size='trip_duration')"
   ]
  },
  {
   "cell_type": "code",
   "execution_count": 18,
   "id": "5e76cd18-8c47-4379-aef2-4168a477c99b",
   "metadata": {},
   "outputs": [
    {
     "data": {
      "text/plain": [
       "id                    0\n",
       "vendor_id             0\n",
       "pickup_datetime       0\n",
       "dropoff_datetime      0\n",
       "passenger_count       0\n",
       "pickup_longitude      0\n",
       "pickup_latitude       0\n",
       "dropoff_longitude     0\n",
       "dropoff_latitude      0\n",
       "store_and_fwd_flag    0\n",
       "trip_duration         0\n",
       "dtype: int64"
      ]
     },
     "execution_count": 18,
     "metadata": {},
     "output_type": "execute_result"
    }
   ],
   "source": [
    "# Check for missing data\n",
    "df.isnull().sum()"
   ]
  },
  {
   "cell_type": "markdown",
   "id": "8e882720-46c2-485a-9aa7-dfa454c02724",
   "metadata": {},
   "source": [
    "## Data Pre Processing"
   ]
  },
  {
   "cell_type": "code",
   "execution_count": 73,
   "id": "6ffb7aab-4753-4189-8596-803372066208",
   "metadata": {},
   "outputs": [],
   "source": [
    "# Separate datetime, string, and numerical columns\n",
    "target = 'trip_duration'\n",
    "datetime_columns = df.select_dtypes(include=['datetime']).columns\n",
    "string_columns = df.select_dtypes(include=['object']).columns\n",
    "numeric_columns = df.select_dtypes(include=['number']).columns\n"
   ]
  },
  {
   "cell_type": "code",
   "execution_count": 75,
   "id": "f6f8c805-3e73-4b58-907d-6b8ad2218bbc",
   "metadata": {},
   "outputs": [],
   "source": [
    "numeric_columns = numeric_columns.to_list()\n",
    "numeric_columns.remove(target)"
   ]
  },
  {
   "cell_type": "code",
   "execution_count": 82,
   "id": "14d6baa1-dc27-4ab7-9ce7-a6ad48ee8f0e",
   "metadata": {},
   "outputs": [],
   "source": [
    "# Normalise data\n",
    "from sklearn.preprocessing import StandardScaler\n",
    "\n",
    "scaler = StandardScaler()\n",
    "df[numeric_columns] = scaler.fit_transform(df[numeric_columns])"
   ]
  },
  {
   "cell_type": "code",
   "execution_count": 83,
   "id": "09aa7cfc-122d-415d-950e-c4de44dd8344",
   "metadata": {},
   "outputs": [
    {
     "data": {
      "text/html": [
       "<div>\n",
       "<style scoped>\n",
       "    .dataframe tbody tr th:only-of-type {\n",
       "        vertical-align: middle;\n",
       "    }\n",
       "\n",
       "    .dataframe tbody tr th {\n",
       "        vertical-align: top;\n",
       "    }\n",
       "\n",
       "    .dataframe thead th {\n",
       "        text-align: right;\n",
       "    }\n",
       "</style>\n",
       "<table border=\"1\" class=\"dataframe\">\n",
       "  <thead>\n",
       "    <tr style=\"text-align: right;\">\n",
       "      <th></th>\n",
       "      <th>id</th>\n",
       "      <th>vendor_id</th>\n",
       "      <th>pickup_datetime</th>\n",
       "      <th>dropoff_datetime</th>\n",
       "      <th>passenger_count</th>\n",
       "      <th>pickup_longitude</th>\n",
       "      <th>pickup_latitude</th>\n",
       "      <th>dropoff_longitude</th>\n",
       "      <th>dropoff_latitude</th>\n",
       "      <th>store_and_fwd_flag</th>\n",
       "      <th>trip_duration</th>\n",
       "    </tr>\n",
       "  </thead>\n",
       "  <tbody>\n",
       "    <tr>\n",
       "      <th>0</th>\n",
       "      <td>id1080784</td>\n",
       "      <td>0.931533</td>\n",
       "      <td>2016-02-29 16:40:21</td>\n",
       "      <td>2016-02-29 16:47:01</td>\n",
       "      <td>-0.504444</td>\n",
       "      <td>0.280911</td>\n",
       "      <td>0.832127</td>\n",
       "      <td>0.137198</td>\n",
       "      <td>0.538014</td>\n",
       "      <td>N</td>\n",
       "      <td>400</td>\n",
       "    </tr>\n",
       "    <tr>\n",
       "      <th>1</th>\n",
       "      <td>id0889885</td>\n",
       "      <td>-1.073500</td>\n",
       "      <td>2016-03-11 23:35:37</td>\n",
       "      <td>2016-03-11 23:53:57</td>\n",
       "      <td>0.257493</td>\n",
       "      <td>-0.212156</td>\n",
       "      <td>-0.570815</td>\n",
       "      <td>-0.306500</td>\n",
       "      <td>-1.577382</td>\n",
       "      <td>N</td>\n",
       "      <td>1100</td>\n",
       "    </tr>\n",
       "    <tr>\n",
       "      <th>2</th>\n",
       "      <td>id0857912</td>\n",
       "      <td>0.931533</td>\n",
       "      <td>2016-02-21 17:59:33</td>\n",
       "      <td>2016-02-21 18:26:48</td>\n",
       "      <td>0.257493</td>\n",
       "      <td>-0.341220</td>\n",
       "      <td>-0.876953</td>\n",
       "      <td>0.364913</td>\n",
       "      <td>0.642175</td>\n",
       "      <td>N</td>\n",
       "      <td>1635</td>\n",
       "    </tr>\n",
       "    <tr>\n",
       "      <th>3</th>\n",
       "      <td>id3744273</td>\n",
       "      <td>0.931533</td>\n",
       "      <td>2016-01-05 09:44:31</td>\n",
       "      <td>2016-01-05 10:03:32</td>\n",
       "      <td>3.305240</td>\n",
       "      <td>0.169785</td>\n",
       "      <td>0.261980</td>\n",
       "      <td>0.239160</td>\n",
       "      <td>0.800639</td>\n",
       "      <td>N</td>\n",
       "      <td>1141</td>\n",
       "    </tr>\n",
       "    <tr>\n",
       "      <th>4</th>\n",
       "      <td>id0232939</td>\n",
       "      <td>-1.073500</td>\n",
       "      <td>2016-02-17 06:42:23</td>\n",
       "      <td>2016-02-17 06:56:31</td>\n",
       "      <td>-0.504444</td>\n",
       "      <td>-0.625160</td>\n",
       "      <td>-1.263600</td>\n",
       "      <td>-0.212103</td>\n",
       "      <td>-0.309245</td>\n",
       "      <td>N</td>\n",
       "      <td>848</td>\n",
       "    </tr>\n",
       "  </tbody>\n",
       "</table>\n",
       "</div>"
      ],
      "text/plain": [
       "          id  vendor_id     pickup_datetime    dropoff_datetime  \\\n",
       "0  id1080784   0.931533 2016-02-29 16:40:21 2016-02-29 16:47:01   \n",
       "1  id0889885  -1.073500 2016-03-11 23:35:37 2016-03-11 23:53:57   \n",
       "2  id0857912   0.931533 2016-02-21 17:59:33 2016-02-21 18:26:48   \n",
       "3  id3744273   0.931533 2016-01-05 09:44:31 2016-01-05 10:03:32   \n",
       "4  id0232939  -1.073500 2016-02-17 06:42:23 2016-02-17 06:56:31   \n",
       "\n",
       "   passenger_count  pickup_longitude  pickup_latitude  dropoff_longitude  \\\n",
       "0        -0.504444          0.280911         0.832127           0.137198   \n",
       "1         0.257493         -0.212156        -0.570815          -0.306500   \n",
       "2         0.257493         -0.341220        -0.876953           0.364913   \n",
       "3         3.305240          0.169785         0.261980           0.239160   \n",
       "4        -0.504444         -0.625160        -1.263600          -0.212103   \n",
       "\n",
       "   dropoff_latitude store_and_fwd_flag  trip_duration  \n",
       "0          0.538014                  N            400  \n",
       "1         -1.577382                  N           1100  \n",
       "2          0.642175                  N           1635  \n",
       "3          0.800639                  N           1141  \n",
       "4         -0.309245                  N            848  "
      ]
     },
     "execution_count": 83,
     "metadata": {},
     "output_type": "execute_result"
    }
   ],
   "source": [
    "df.head()"
   ]
  },
  {
   "cell_type": "code",
   "execution_count": 86,
   "id": "c83178dd-157f-4a9b-af59-3d250586be0c",
   "metadata": {},
   "outputs": [],
   "source": [
    "# Convert String Columns to Numeric\n",
    "\n",
    "from sklearn.preprocessing import LabelEncoder\n",
    "encoder = LabelEncoder()\n",
    "df['store_and_fwd_flag'] = encoder.fit_transform(df['store_and_fwd_flag'])"
   ]
  },
  {
   "cell_type": "code",
   "execution_count": 88,
   "id": "f1b8300f-d9db-4a62-a2cd-317d3dfbda81",
   "metadata": {},
   "outputs": [
    {
     "data": {
      "text/plain": [
       "store_and_fwd_flag\n",
       "0    725282\n",
       "1      4040\n",
       "Name: count, dtype: int64"
      ]
     },
     "execution_count": 88,
     "metadata": {},
     "output_type": "execute_result"
    }
   ],
   "source": [
    "df['store_and_fwd_flag'].value_counts()"
   ]
  },
  {
   "cell_type": "markdown",
   "id": "1cce29a8-4caa-4f6e-a015-69a22758ded1",
   "metadata": {},
   "source": [
    "## Feature Engineering"
   ]
  },
  {
   "cell_type": "code",
   "execution_count": 100,
   "id": "3e7307be-df6e-4b40-9296-899107b4f1ca",
   "metadata": {},
   "outputs": [],
   "source": [
    "# Use Datetime column, split column in 4 categories - Year, Month, day, time \n",
    "# Convert datetime to timestamp\n",
    "df['pickup_datetime_year'] = df['pickup_datetime'].dt.year\n",
    "df['pickup_datetime_month'] = df['pickup_datetime'].dt.month\n",
    "df['pickup_datetime_day'] = df['pickup_datetime'].dt.day\n",
    "df['pickup_datetime_hour'] = df['pickup_datetime'].dt.hour\n",
    "df['pickup_datetime_minute'] = df['pickup_datetime'].dt.minute\n",
    "df['pickup_datetime_second'] = df['pickup_datetime'].dt.second\n",
    "df['pickup_datetime'] = df['pickup_datetime'].astype(int) / 10**9\n"
   ]
  },
  {
   "cell_type": "code",
   "execution_count": 102,
   "id": "b31e31c2-bc8b-4a39-8d3c-a4c3f27499b7",
   "metadata": {},
   "outputs": [],
   "source": [
    "df['dropoff_datetime_year'] = df['dropoff_datetime'].dt.year\n",
    "df['dropoff_datetime_month'] = df['dropoff_datetime'].dt.month\n",
    "df['dropoff_datetime_day'] = df['dropoff_datetime'].dt.day\n",
    "df['dropoff_datetime_hour'] = df['dropoff_datetime'].dt.hour\n",
    "df['dropoff_datetime_minute'] = df['dropoff_datetime'].dt.minute\n",
    "df['dropoff_datetime_second'] = df['dropoff_datetime'].dt.second\n",
    "df['dropoff_datetime'] = df['dropoff_datetime'].astype(int) / 10**9"
   ]
  },
  {
   "cell_type": "code",
   "execution_count": 103,
   "id": "2b5e482f-d2e4-4e54-8db0-2ec826e24f7f",
   "metadata": {},
   "outputs": [
    {
     "data": {
      "text/html": [
       "<div>\n",
       "<style scoped>\n",
       "    .dataframe tbody tr th:only-of-type {\n",
       "        vertical-align: middle;\n",
       "    }\n",
       "\n",
       "    .dataframe tbody tr th {\n",
       "        vertical-align: top;\n",
       "    }\n",
       "\n",
       "    .dataframe thead th {\n",
       "        text-align: right;\n",
       "    }\n",
       "</style>\n",
       "<table border=\"1\" class=\"dataframe\">\n",
       "  <thead>\n",
       "    <tr style=\"text-align: right;\">\n",
       "      <th></th>\n",
       "      <th>id</th>\n",
       "      <th>vendor_id</th>\n",
       "      <th>pickup_datetime</th>\n",
       "      <th>dropoff_datetime</th>\n",
       "      <th>passenger_count</th>\n",
       "      <th>pickup_longitude</th>\n",
       "      <th>pickup_latitude</th>\n",
       "      <th>dropoff_longitude</th>\n",
       "      <th>dropoff_latitude</th>\n",
       "      <th>store_and_fwd_flag</th>\n",
       "      <th>...</th>\n",
       "      <th>pickup_datetime_day</th>\n",
       "      <th>pickup_datetime_hour</th>\n",
       "      <th>pickup_datetime_minute</th>\n",
       "      <th>pickup_datetime_second</th>\n",
       "      <th>dropoff_datetime_year</th>\n",
       "      <th>dropoff_datetime_month</th>\n",
       "      <th>dropoff_datetime_day</th>\n",
       "      <th>dropoff_datetime_hour</th>\n",
       "      <th>dropoff_datetime_minute</th>\n",
       "      <th>dropoff_datetime_second</th>\n",
       "    </tr>\n",
       "  </thead>\n",
       "  <tbody>\n",
       "    <tr>\n",
       "      <th>0</th>\n",
       "      <td>id1080784</td>\n",
       "      <td>0.931533</td>\n",
       "      <td>1.456764e+09</td>\n",
       "      <td>1.456764e+09</td>\n",
       "      <td>-0.504444</td>\n",
       "      <td>0.280911</td>\n",
       "      <td>0.832127</td>\n",
       "      <td>0.137198</td>\n",
       "      <td>0.538014</td>\n",
       "      <td>0</td>\n",
       "      <td>...</td>\n",
       "      <td>29</td>\n",
       "      <td>16</td>\n",
       "      <td>40</td>\n",
       "      <td>21</td>\n",
       "      <td>2016</td>\n",
       "      <td>2</td>\n",
       "      <td>29</td>\n",
       "      <td>16</td>\n",
       "      <td>47</td>\n",
       "      <td>1</td>\n",
       "    </tr>\n",
       "    <tr>\n",
       "      <th>1</th>\n",
       "      <td>id0889885</td>\n",
       "      <td>-1.073500</td>\n",
       "      <td>1.457739e+09</td>\n",
       "      <td>1.457740e+09</td>\n",
       "      <td>0.257493</td>\n",
       "      <td>-0.212156</td>\n",
       "      <td>-0.570815</td>\n",
       "      <td>-0.306500</td>\n",
       "      <td>-1.577382</td>\n",
       "      <td>0</td>\n",
       "      <td>...</td>\n",
       "      <td>11</td>\n",
       "      <td>23</td>\n",
       "      <td>35</td>\n",
       "      <td>37</td>\n",
       "      <td>2016</td>\n",
       "      <td>3</td>\n",
       "      <td>11</td>\n",
       "      <td>23</td>\n",
       "      <td>53</td>\n",
       "      <td>57</td>\n",
       "    </tr>\n",
       "    <tr>\n",
       "      <th>2</th>\n",
       "      <td>id0857912</td>\n",
       "      <td>0.931533</td>\n",
       "      <td>1.456078e+09</td>\n",
       "      <td>1.456079e+09</td>\n",
       "      <td>0.257493</td>\n",
       "      <td>-0.341220</td>\n",
       "      <td>-0.876953</td>\n",
       "      <td>0.364913</td>\n",
       "      <td>0.642175</td>\n",
       "      <td>0</td>\n",
       "      <td>...</td>\n",
       "      <td>21</td>\n",
       "      <td>17</td>\n",
       "      <td>59</td>\n",
       "      <td>33</td>\n",
       "      <td>2016</td>\n",
       "      <td>2</td>\n",
       "      <td>21</td>\n",
       "      <td>18</td>\n",
       "      <td>26</td>\n",
       "      <td>48</td>\n",
       "    </tr>\n",
       "    <tr>\n",
       "      <th>3</th>\n",
       "      <td>id3744273</td>\n",
       "      <td>0.931533</td>\n",
       "      <td>1.451987e+09</td>\n",
       "      <td>1.451988e+09</td>\n",
       "      <td>3.305240</td>\n",
       "      <td>0.169785</td>\n",
       "      <td>0.261980</td>\n",
       "      <td>0.239160</td>\n",
       "      <td>0.800639</td>\n",
       "      <td>0</td>\n",
       "      <td>...</td>\n",
       "      <td>5</td>\n",
       "      <td>9</td>\n",
       "      <td>44</td>\n",
       "      <td>31</td>\n",
       "      <td>2016</td>\n",
       "      <td>1</td>\n",
       "      <td>5</td>\n",
       "      <td>10</td>\n",
       "      <td>3</td>\n",
       "      <td>32</td>\n",
       "    </tr>\n",
       "    <tr>\n",
       "      <th>4</th>\n",
       "      <td>id0232939</td>\n",
       "      <td>-1.073500</td>\n",
       "      <td>1.455691e+09</td>\n",
       "      <td>1.455692e+09</td>\n",
       "      <td>-0.504444</td>\n",
       "      <td>-0.625160</td>\n",
       "      <td>-1.263600</td>\n",
       "      <td>-0.212103</td>\n",
       "      <td>-0.309245</td>\n",
       "      <td>0</td>\n",
       "      <td>...</td>\n",
       "      <td>17</td>\n",
       "      <td>6</td>\n",
       "      <td>42</td>\n",
       "      <td>23</td>\n",
       "      <td>2016</td>\n",
       "      <td>2</td>\n",
       "      <td>17</td>\n",
       "      <td>6</td>\n",
       "      <td>56</td>\n",
       "      <td>31</td>\n",
       "    </tr>\n",
       "  </tbody>\n",
       "</table>\n",
       "<p>5 rows × 23 columns</p>\n",
       "</div>"
      ],
      "text/plain": [
       "          id  vendor_id  pickup_datetime  dropoff_datetime  passenger_count  \\\n",
       "0  id1080784   0.931533     1.456764e+09      1.456764e+09        -0.504444   \n",
       "1  id0889885  -1.073500     1.457739e+09      1.457740e+09         0.257493   \n",
       "2  id0857912   0.931533     1.456078e+09      1.456079e+09         0.257493   \n",
       "3  id3744273   0.931533     1.451987e+09      1.451988e+09         3.305240   \n",
       "4  id0232939  -1.073500     1.455691e+09      1.455692e+09        -0.504444   \n",
       "\n",
       "   pickup_longitude  pickup_latitude  dropoff_longitude  dropoff_latitude  \\\n",
       "0          0.280911         0.832127           0.137198          0.538014   \n",
       "1         -0.212156        -0.570815          -0.306500         -1.577382   \n",
       "2         -0.341220        -0.876953           0.364913          0.642175   \n",
       "3          0.169785         0.261980           0.239160          0.800639   \n",
       "4         -0.625160        -1.263600          -0.212103         -0.309245   \n",
       "\n",
       "   store_and_fwd_flag  ...  pickup_datetime_day  pickup_datetime_hour  \\\n",
       "0                   0  ...                   29                    16   \n",
       "1                   0  ...                   11                    23   \n",
       "2                   0  ...                   21                    17   \n",
       "3                   0  ...                    5                     9   \n",
       "4                   0  ...                   17                     6   \n",
       "\n",
       "   pickup_datetime_minute  pickup_datetime_second  dropoff_datetime_year  \\\n",
       "0                      40                      21                   2016   \n",
       "1                      35                      37                   2016   \n",
       "2                      59                      33                   2016   \n",
       "3                      44                      31                   2016   \n",
       "4                      42                      23                   2016   \n",
       "\n",
       "   dropoff_datetime_month  dropoff_datetime_day  dropoff_datetime_hour  \\\n",
       "0                       2                    29                     16   \n",
       "1                       3                    11                     23   \n",
       "2                       2                    21                     18   \n",
       "3                       1                     5                     10   \n",
       "4                       2                    17                      6   \n",
       "\n",
       "   dropoff_datetime_minute  dropoff_datetime_second  \n",
       "0                       47                        1  \n",
       "1                       53                       57  \n",
       "2                       26                       48  \n",
       "3                        3                       32  \n",
       "4                       56                       31  \n",
       "\n",
       "[5 rows x 23 columns]"
      ]
     },
     "execution_count": 103,
     "metadata": {},
     "output_type": "execute_result"
    }
   ],
   "source": [
    "df.head()"
   ]
  }
 ],
 "metadata": {
  "kernelspec": {
   "display_name": "Python 3 (ipykernel)",
   "language": "python",
   "name": "python3"
  },
  "language_info": {
   "codemirror_mode": {
    "name": "ipython",
    "version": 3
   },
   "file_extension": ".py",
   "mimetype": "text/x-python",
   "name": "python",
   "nbconvert_exporter": "python",
   "pygments_lexer": "ipython3",
   "version": "3.11.5"
  }
 },
 "nbformat": 4,
 "nbformat_minor": 5
}
